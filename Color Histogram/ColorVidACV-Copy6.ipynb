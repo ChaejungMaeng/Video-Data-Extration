{
 "cells": [
  {
   "cell_type": "code",
   "execution_count": 1,
   "metadata": {},
   "outputs": [],
   "source": [
    "import numpy as np\n",
    "import cv2\n",
    "from sklearn.cluster import KMeans\n",
    "import matplotlib.pyplot as plt"
   ]
  },
  {
   "cell_type": "code",
   "execution_count": 6,
   "metadata": {},
   "outputs": [
    {
     "name": "stdout",
     "output_type": "stream",
     "text": [
      "Saved frame number : 50\n",
      "Saved frame0.jpg\n",
      "Saved frame number : 100\n",
      "Saved frame1.jpg\n",
      "Saved frame number : 150\n",
      "Saved frame2.jpg\n",
      "Saved frame number : 200\n",
      "Saved frame3.jpg\n",
      "Saved frame number : 250\n",
      "Saved frame4.jpg\n",
      "Saved frame number : 300\n",
      "Saved frame5.jpg\n",
      "Saved frame number : 350\n",
      "Saved frame6.jpg\n",
      "Saved frame number : 400\n",
      "Saved frame7.jpg\n",
      "Saved frame number : 450\n",
      "Saved frame8.jpg\n",
      "Saved frame number : 500\n",
      "Saved frame9.jpg\n",
      "Saved frame number : 550\n",
      "Saved frame10.jpg\n",
      "Saved frame number : 600\n",
      "Saved frame11.jpg\n",
      "Saved frame number : 650\n",
      "Saved frame12.jpg\n",
      "Saved frame number : 700\n",
      "Saved frame13.jpg\n",
      "Saved frame number : 750\n",
      "Saved frame14.jpg\n",
      "Saved frame number : 800\n",
      "Saved frame15.jpg\n",
      "Saved frame number : 850\n",
      "Saved frame16.jpg\n",
      "Saved frame number : 900\n",
      "Saved frame17.jpg\n",
      "Saved frame number : 950\n",
      "Saved frame18.jpg\n",
      "Saved frame number : 1000\n",
      "Saved frame19.jpg\n",
      "Saved frame number : 1050\n",
      "Saved frame20.jpg\n",
      "Saved frame number : 1100\n",
      "Saved frame21.jpg\n",
      "Saved frame number : 1150\n",
      "Saved frame22.jpg\n",
      "Saved frame number : 1200\n",
      "Saved frame23.jpg\n",
      "Saved frame number : 1250\n",
      "Saved frame24.jpg\n",
      "Saved frame number : 1300\n",
      "Saved frame25.jpg\n",
      "Saved frame number : 1350\n",
      "Saved frame26.jpg\n",
      "Saved frame number : 1400\n",
      "Saved frame27.jpg\n",
      "Saved frame number : 1450\n",
      "Saved frame28.jpg\n",
      "Saved frame number : 1500\n",
      "Saved frame29.jpg\n",
      "Saved frame number : 1550\n",
      "Saved frame30.jpg\n",
      "Saved frame number : 1600\n",
      "Saved frame31.jpg\n",
      "Saved frame number : 1650\n",
      "Saved frame32.jpg\n",
      "Saved frame number : 1700\n",
      "Saved frame33.jpg\n",
      "Saved frame number : 1750\n",
      "Saved frame34.jpg\n",
      "Saved frame number : 1800\n",
      "Saved frame35.jpg\n",
      "Saved frame number : 1850\n",
      "Saved frame36.jpg\n",
      "Saved frame number : 1900\n",
      "Saved frame37.jpg\n",
      "Saved frame number : 1950\n",
      "Saved frame38.jpg\n",
      "Saved frame number : 2000\n",
      "Saved frame39.jpg\n",
      "Saved frame number : 2050\n",
      "Saved frame40.jpg\n",
      "Saved frame number : 2100\n",
      "Saved frame41.jpg\n",
      "Saved frame number : 2150\n",
      "Saved frame42.jpg\n",
      "Saved frame number : 2200\n",
      "Saved frame43.jpg\n",
      "Saved frame number : 2250\n",
      "Saved frame44.jpg\n",
      "Saved frame number : 2300\n",
      "Saved frame45.jpg\n",
      "Saved frame number : 2350\n",
      "Saved frame46.jpg\n",
      "Saved frame number : 2400\n",
      "Saved frame47.jpg\n",
      "Saved frame number : 2450\n",
      "Saved frame48.jpg\n",
      "Saved frame number : 2500\n",
      "Saved frame49.jpg\n",
      "Saved frame number : 2550\n",
      "Saved frame50.jpg\n",
      "Saved frame number : 2600\n",
      "Saved frame51.jpg\n",
      "Saved frame number : 2650\n",
      "Saved frame52.jpg\n",
      "Saved frame number : 2700\n",
      "Saved frame53.jpg\n",
      "Saved frame number : 2750\n",
      "Saved frame54.jpg\n",
      "Saved frame number : 2800\n",
      "Saved frame55.jpg\n",
      "Saved frame number : 2850\n",
      "Saved frame56.jpg\n",
      "Saved frame number : 2900\n",
      "Saved frame57.jpg\n",
      "Saved frame number : 2950\n",
      "Saved frame58.jpg\n",
      "Saved frame number : 3000\n",
      "Saved frame59.jpg\n",
      "Saved frame number : 3050\n",
      "Saved frame60.jpg\n",
      "Saved frame number : 3100\n",
      "Saved frame61.jpg\n",
      "Saved frame number : 3150\n",
      "Saved frame62.jpg\n",
      "Saved frame number : 3200\n",
      "Saved frame63.jpg\n",
      "Saved frame number : 3250\n",
      "Saved frame64.jpg\n",
      "Saved frame number : 3300\n",
      "Saved frame65.jpg\n",
      "Saved frame number : 3350\n",
      "Saved frame66.jpg\n",
      "Saved frame number : 3400\n",
      "Saved frame67.jpg\n",
      "Saved frame number : 3450\n",
      "Saved frame68.jpg\n",
      "Saved frame number : 3500\n",
      "Saved frame69.jpg\n",
      "Saved frame number : 3550\n",
      "Saved frame70.jpg\n",
      "Saved frame number : 3600\n",
      "Saved frame71.jpg\n",
      "Saved frame number : 3650\n",
      "Saved frame72.jpg\n",
      "Saved frame number : 3700\n",
      "Saved frame73.jpg\n",
      "Saved frame number : 3750\n",
      "Saved frame74.jpg\n",
      "Saved frame number : 3800\n",
      "Saved frame75.jpg\n",
      "Saved frame number : 3850\n",
      "Saved frame76.jpg\n",
      "Saved frame number : 3900\n",
      "Saved frame77.jpg\n",
      "Saved frame number : 3950\n",
      "Saved frame78.jpg\n",
      "Saved frame number : 4000\n",
      "Saved frame79.jpg\n",
      "Saved frame number : 4050\n",
      "Saved frame80.jpg\n",
      "Saved frame number : 4100\n",
      "Saved frame81.jpg\n",
      "Saved frame number : 4150\n",
      "Saved frame82.jpg\n",
      "Saved frame number : 4200\n",
      "Saved frame83.jpg\n",
      "Saved frame number : 4250\n",
      "Saved frame84.jpg\n",
      "Saved frame number : 4300\n",
      "Saved frame85.jpg\n",
      "Saved frame number : 4350\n",
      "Saved frame86.jpg\n",
      "Saved frame number : 4400\n",
      "Saved frame87.jpg\n",
      "Saved frame number : 4450\n",
      "Saved frame88.jpg\n",
      "Saved frame number : 4500\n",
      "Saved frame89.jpg\n",
      "Saved frame number : 4550\n",
      "Saved frame90.jpg\n",
      "Saved frame number : 4600\n",
      "Saved frame91.jpg\n",
      "Saved frame number : 4650\n",
      "Saved frame92.jpg\n",
      "Saved frame number : 4700\n",
      "Saved frame93.jpg\n",
      "Saved frame number : 4750\n",
      "Saved frame94.jpg\n",
      "Saved frame number : 4800\n",
      "Saved frame95.jpg\n",
      "Saved frame number : 4850\n",
      "Saved frame96.jpg\n",
      "Saved frame number : 4900\n",
      "Saved frame97.jpg\n",
      "Saved frame number : 4950\n",
      "Saved frame98.jpg\n",
      "Saved frame number : 5000\n",
      "Saved frame99.jpg\n",
      "Saved frame number : 5050\n",
      "Saved frame100.jpg\n",
      "Saved frame number : 5100\n",
      "Saved frame101.jpg\n",
      "Saved frame number : 5150\n",
      "Saved frame102.jpg\n",
      "Saved frame number : 5200\n",
      "Saved frame103.jpg\n",
      "Saved frame number : 5250\n",
      "Saved frame104.jpg\n",
      "Saved frame number : 5300\n",
      "Saved frame105.jpg\n",
      "Saved frame number : 5350\n",
      "Saved frame106.jpg\n",
      "Saved frame number : 5400\n",
      "Saved frame107.jpg\n",
      "Saved frame number : 5450\n",
      "Saved frame108.jpg\n",
      "Saved frame number : 5500\n",
      "Saved frame109.jpg\n",
      "Saved frame number : 5550\n",
      "Saved frame110.jpg\n",
      "Saved frame number : 5600\n",
      "Saved frame111.jpg\n",
      "Saved frame number : 5650\n",
      "Saved frame112.jpg\n",
      "Saved frame number : 5700\n",
      "Saved frame113.jpg\n"
     ]
    },
    {
     "ename": "KeyboardInterrupt",
     "evalue": "",
     "output_type": "error",
     "traceback": [
      "\u001b[0;31m---------------------------------------------------------------------------\u001b[0m",
      "\u001b[0;31mKeyboardInterrupt\u001b[0m                         Traceback (most recent call last)",
      "\u001b[0;32m<ipython-input-6-f88c4870ef53>\u001b[0m in \u001b[0;36m<module>\u001b[0;34m()\u001b[0m\n\u001b[1;32m      8\u001b[0m \u001b[0;34m\u001b[0m\u001b[0m\n\u001b[1;32m      9\u001b[0m \u001b[0;32mwhile\u001b[0m\u001b[0;34m(\u001b[0m\u001b[0mvidcap\u001b[0m\u001b[0;34m.\u001b[0m\u001b[0misOpened\u001b[0m\u001b[0;34m(\u001b[0m\u001b[0;34m)\u001b[0m\u001b[0;34m)\u001b[0m\u001b[0;34m:\u001b[0m\u001b[0;34m\u001b[0m\u001b[0m\n\u001b[0;32m---> 10\u001b[0;31m     \u001b[0mret\u001b[0m\u001b[0;34m,\u001b[0m \u001b[0mimage\u001b[0m \u001b[0;34m=\u001b[0m \u001b[0mvidcap\u001b[0m\u001b[0;34m.\u001b[0m\u001b[0mread\u001b[0m\u001b[0;34m(\u001b[0m\u001b[0;34m)\u001b[0m\u001b[0;34m\u001b[0m\u001b[0m\n\u001b[0m\u001b[1;32m     11\u001b[0m \u001b[0;34m\u001b[0m\u001b[0m\n\u001b[1;32m     12\u001b[0m     \u001b[0;32mif\u001b[0m\u001b[0;34m(\u001b[0m\u001b[0mint\u001b[0m\u001b[0;34m(\u001b[0m\u001b[0mvidcap\u001b[0m\u001b[0;34m.\u001b[0m\u001b[0mget\u001b[0m\u001b[0;34m(\u001b[0m\u001b[0;36m1\u001b[0m\u001b[0;34m)\u001b[0m\u001b[0;34m)\u001b[0m \u001b[0;34m%\u001b[0m \u001b[0;36m50\u001b[0m \u001b[0;34m==\u001b[0m \u001b[0;36m0\u001b[0m\u001b[0;34m)\u001b[0m\u001b[0;34m:\u001b[0m\u001b[0;34m\u001b[0m\u001b[0m\n",
      "\u001b[0;31mKeyboardInterrupt\u001b[0m: "
     ]
    }
   ],
   "source": [
    "# -*- coding: utf-8 -*-\n",
    "__author__ = 'Seran'\n",
    " \n",
    "# 영상의 의미지를 연속적으로 캡쳐할 수 있게 하는 class\n",
    "vidcap = cv2.VideoCapture('ACV.mp4')\n",
    " \n",
    "count = 0\n",
    " \n",
    "while(vidcap.isOpened()):\n",
    "    ret, image = vidcap.read()\n",
    " \n",
    "    if(int(vidcap.get(1)) % 50 == 0):\n",
    "        print('Saved frame number : ' + str(int(vidcap.get(1))))\n",
    "        cv2.imwrite(\"../images/frame%d.jpg\" % count, image)\n",
    "        print('Saved frame%d.jpg' % count)\n",
    "        count += 1\n",
    "        \n",
    "vidcap.release()"
   ]
  },
  {
   "cell_type": "code",
   "execution_count": 7,
   "metadata": {},
   "outputs": [
    {
     "name": "stdout",
     "output_type": "stream",
     "text": [
      "(720, 1280, 3)\n"
     ]
    }
   ],
   "source": [
    "print(image.shape)"
   ]
  },
  {
   "cell_type": "code",
   "execution_count": 8,
   "metadata": {},
   "outputs": [],
   "source": [
    "image = cv2.cvtColor(image, cv2.COLOR_BGR2RGB)"
   ]
  },
  {
   "cell_type": "code",
   "execution_count": 9,
   "metadata": {},
   "outputs": [
    {
     "name": "stdout",
     "output_type": "stream",
     "text": [
      "(921600, 3)\n"
     ]
    }
   ],
   "source": [
    "image = image.reshape((image.shape[0] * image.shape[1], 3)) # height, width 통합\n",
    "print(image.shape)\n",
    "# (25024, 3)"
   ]
  },
  {
   "cell_type": "code",
   "execution_count": null,
   "metadata": {},
   "outputs": [],
   "source": []
  },
  {
   "cell_type": "code",
   "execution_count": 10,
   "metadata": {},
   "outputs": [
    {
     "data": {
      "text/plain": [
       "KMeans(algorithm='auto', copy_x=True, init='k-means++', max_iter=300,\n",
       "    n_clusters=5, n_init=10, n_jobs=None, precompute_distances='auto',\n",
       "    random_state=None, tol=0.0001, verbose=0)"
      ]
     },
     "execution_count": 10,
     "metadata": {},
     "output_type": "execute_result"
    }
   ],
   "source": [
    "k = 5 # 예제는 5개로 나누겠습니다\n",
    "clt = KMeans(n_clusters = k)\n",
    "clt.fit(image)"
   ]
  },
  {
   "cell_type": "code",
   "execution_count": 14,
   "metadata": {},
   "outputs": [
    {
     "name": "stdout",
     "output_type": "stream",
     "text": [
      "[22.00388513 27.74632461 45.00186745]\n",
      "[141.24095714 150.28253138 161.29026382]\n",
      "[44.70906675 52.29397569 71.35055191]\n",
      "[86.0293385  95.49776902 93.43343875]\n",
      "[168.18896436 197.06343838 234.57676647]\n"
     ]
    }
   ],
   "source": [
    "for center in clt.cluster_centers_:\n",
    "    print(center)"
   ]
  },
  {
   "cell_type": "code",
   "execution_count": 15,
   "metadata": {},
   "outputs": [
    {
     "name": "stdout",
     "output_type": "stream",
     "text": [
      "[0.46925673 0.08760525 0.23104926 0.10040582 0.11168294]\n"
     ]
    }
   ],
   "source": [
    "def centroid_histogram(clt):\n",
    "    # grab the number of different clusters and create a histogram\n",
    "    # based on the number of pixels assigned to each cluster\n",
    "    numLabels = np.arange(0, len(np.unique(clt.labels_)) + 1)\n",
    "    (hist, _) = np.histogram(clt.labels_, bins=numLabels)\n",
    "\n",
    "    # normalize the histogram, such that it sums to one\n",
    "    hist = hist.astype(\"float\")\n",
    "    hist /= hist.sum()\n",
    "\n",
    "    # return the histogram\n",
    "    return hist\n",
    "\n",
    "\n",
    "hist = centroid_histogram(clt)\n",
    "print(hist)"
   ]
  },
  {
   "cell_type": "code",
   "execution_count": 17,
   "metadata": {},
   "outputs": [
    {
     "name": "stdout",
     "output_type": "stream",
     "text": [
      "0.4692567274305556 [22.00388513 27.74632461 45.00186745]\n",
      "0.08760525173611111 [141.24095714 150.28253138 161.29026382]\n",
      "0.23104926215277777 [44.70906675 52.29397569 71.35055191]\n",
      "0.10040581597222223 [86.0293385  95.49776902 93.43343875]\n",
      "0.11168294270833333 [168.18896436 197.06343838 234.57676647]\n"
     ]
    },
    {
     "data": {
      "image/png": "[encoded data removed]",
      "text/plain": [
       "<matplotlib.figure.Figure at 0x1a1665f400>"
      ]
     },
     "metadata": {},
     "output_type": "display_data"
    }
   ],
   "source": [
    "def plot_colors(hist, centroids):\n",
    "    # initialize the bar chart representing the relative frequency\n",
    "    # of each of the colors\n",
    "    bar = np.zeros((50, 300, 3), dtype=\"uint8\")\n",
    "    startX = 0\n",
    "\n",
    "    # loop over the percentage of each cluster and the color of\n",
    "    # each cluster\n",
    "    for (percent, color) in zip(hist, centroids):\n",
    "        # plot the relative percentage of each cluster\n",
    "        endX = startX + (percent * 300)\n",
    "        cv2.rectangle(bar, (int(startX), 0), (int(endX), 50),\n",
    "                      color.astype(\"uint8\").tolist(), -1)\n",
    "        startX = endX\n",
    "        print(percent, color)\n",
    "    # return the bar chart\n",
    "    return bar\n",
    "\n",
    "bar = plot_colors(hist, clt.cluster_centers_)\n",
    "\n",
    "\n",
    "# show our color bart\n",
    "plt.figure()\n",
    "plt.axis(\"off\")\n",
    "plt.imshow(bar)\n",
    "plt.show()\n"
   ]
  },
  {
   "cell_type": "code",
   "execution_count": null,
   "metadata": {},
   "outputs": [],
   "source": []
  }
 ],
 "metadata": {
  "kernelspec": {
   "display_name": "Python 3",
   "language": "python",
   "name": "python3"
  },
  "language_info": {
   "codemirror_mode": {
    "name": "ipython",
    "version": 3
   },
   "file_extension": ".py",
   "mimetype": "text/x-python",
   "name": "python",
   "nbconvert_exporter": "python",
   "pygments_lexer": "ipython3",
   "version": "3.6.4"
  }
 },
 "nbformat": 4,
 "nbformat_minor": 2
}
